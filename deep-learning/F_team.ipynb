{
 "cells": [
  {
   "cell_type": "markdown",
   "id": "a06b1c75-74d5-4ea1-b67a-ce7b9af3e746",
   "metadata": {},
   "source": [
    "# F team\n",
    "\n",
    "김상화, 박진영, 조재영, 최은지"
   ]
  },
  {
   "cell_type": "code",
   "execution_count": 32,
   "id": "26810ae0-b04c-4be9-b286-5254c9e5c2bb",
   "metadata": {},
   "outputs": [],
   "source": [
    "import pandas as pd\n",
    "import numpy as np\n",
    "import matplotlib.pyplot as plt\n",
    "import copy\n",
    "import warnings\n",
    "import seaborn as sns\n",
    "warnings.filterwarnings('ignore')\n",
    "import tensorflow as tf\n",
    "from tensorflow.keras.models import Sequential\n",
    "from tensorflow.keras.layers import Dense\n",
    "from tensorflow.keras.layers import BatchNormalization\n",
    "from tensorflow.keras.optimizers import Adam, Adamax, Adagrad\n",
    "\n",
    "seed = 0\n",
    "np.random.seed(seed)"
   ]
  },
  {
   "cell_type": "code",
   "execution_count": 33,
   "id": "b1db2319-9d74-48a8-acd7-cc8606e8d29d",
   "metadata": {},
   "outputs": [],
   "source": [
    "data = pd.read_csv(\"./dataset/bike_sharing_demand_train.csv\")\n",
    "submission = pd.read_csv(\"./dataset/sampleSubmission.csv\")\n",
    "test = pd.read_csv(\"./dataset/test.csv\")"
   ]
  },
  {
   "cell_type": "code",
   "execution_count": 34,
   "id": "7b68cdd0-2a20-4537-86d4-807162b89f76",
   "metadata": {},
   "outputs": [],
   "source": [
    "def rmsle(y, pred):\n",
    "    log_y = np.log1p(y)\n",
    "    log_pred = np.log1p(pred)\n",
    "    squared_error = (log_y - log_pred) ** 2\n",
    "    rmsle = np.sqrt(np.mean(squared_error))\n",
    "    print('RMSLE: {0:.4f}'.format(rmsle))\n",
    "    return rmsle"
   ]
  },
  {
   "cell_type": "markdown",
   "id": "e638ec0a-326b-43b3-b8ce-f032d352fc42",
   "metadata": {},
   "source": [
    "# 1. 데이터 이해"
   ]
  },
  {
   "cell_type": "markdown",
   "id": "99b2546e-aa01-46c2-8d12-7025d62283c3",
   "metadata": {},
   "source": [
    "## (1) 훈련용 데이터에는 존재하지만 테스트 데이터에는 존재하지 않는 columns 확인"
   ]
  },
  {
   "cell_type": "code",
   "execution_count": 35,
   "id": "7760d2ef-9869-448c-ae2a-bf0cfac296f3",
   "metadata": {},
   "outputs": [
    {
     "name": "stdout",
     "output_type": "stream",
     "text": [
      "casual\n",
      "registered\n",
      "count\n"
     ]
    }
   ],
   "source": [
    "x = [x for x in data.columns.tolist()]\n",
    "y = [y for y in test.columns.tolist()]\n",
    "for i in x:\n",
    "    if(i not in y):\n",
    "        print(i)"
   ]
  },
  {
   "cell_type": "markdown",
   "id": "b4637697-275f-4b2e-9ee8-8cfb2f06bbd4",
   "metadata": {},
   "source": [
    "- casual + registered = counts 라는 것을 확인했고, 실제 예측 시 불필요한 column임을 확인하여 삭제"
   ]
  },
  {
   "cell_type": "code",
   "execution_count": 36,
   "id": "167f06d3-7aac-44ee-913d-a948118ec657",
   "metadata": {},
   "outputs": [],
   "source": [
    "data.drop(['casual','registered'],axis = 1,inplace = True)"
   ]
  },
  {
   "cell_type": "markdown",
   "id": "550e718d-289e-40ec-999d-99f576caf7ba",
   "metadata": {},
   "source": [
    "## (2) datetime column을 year, month, day, hour column 으로 변경"
   ]
  },
  {
   "cell_type": "code",
   "execution_count": 37,
   "id": "138087f0-c37b-4850-9796-b6a83545e7f4",
   "metadata": {},
   "outputs": [],
   "source": [
    "data['datetime'] = data['datetime'].astype(\"datetime64\")\n",
    "data['year'] = data['datetime'].dt.year\n",
    "data['month'] = data['datetime'].dt.month\n",
    "data['day'] = data['datetime'].dt.day\n",
    "data['hour'] = data['datetime'].dt.hour\n",
    "\n",
    "test['datetime'] = test['datetime'].astype(\"datetime64\")\n",
    "test['year'] = test['datetime'].dt.year\n",
    "test['month'] = test['datetime'].dt.month\n",
    "test['day'] = test['datetime'].dt.day\n",
    "test['hour'] = test['datetime'].dt.hour"
   ]
  },
  {
   "cell_type": "code",
   "execution_count": 38,
   "id": "b3eb7303-f649-4d29-b770-a2c92aa75e03",
   "metadata": {},
   "outputs": [
    {
     "name": "stdout",
     "output_type": "stream",
     "text": [
      "훈련용 데이터 :  [1, 2, 3, 4, 5, 6, 7, 8, 9, 10, 11, 12, 13, 14, 15, 16, 17, 18, 19]\n",
      "테스트 데이터 :  [20, 21, 22, 23, 24, 25, 26, 27, 28, 29, 30, 31]\n"
     ]
    }
   ],
   "source": [
    "print(\"훈련용 데이터 : \",data['day'].unique().tolist())\n",
    "print(\"테스트 데이터 : \", test['day'].unique().tolist())"
   ]
  },
  {
   "cell_type": "markdown",
   "id": "dcc51cd7-44a8-4668-aaec-b72183ce6b0f",
   "metadata": {},
   "source": [
    "- train 데이터를 월별 1~19일 자전거 이용량 데이터\n",
    "- test 데이터를 월별 20~31일 자전거 이용량 데이터"
   ]
  },
  {
   "cell_type": "code",
   "execution_count": 39,
   "id": "7a30017e-5a9c-4744-b3ec-933597114c01",
   "metadata": {},
   "outputs": [],
   "source": [
    "# 이미 전처리 과정을 마친 datetime과 예측을 위한 입력값이 달라 불필요한 day는 삭제\n",
    "data.drop(['datetime','day'],axis = 1,inplace = True)\n",
    "test.drop(['datetime','day'],axis = 1,inplace = True)"
   ]
  },
  {
   "cell_type": "markdown",
   "id": "bebc1fca-c7de-44fb-adbe-031a17858d50",
   "metadata": {},
   "source": [
    "## (3) 종속 변수, 독립 변수 파악"
   ]
  },
  {
   "cell_type": "code",
   "execution_count": 40,
   "id": "2cc5046c-1acf-4602-881e-f12e6ec20230",
   "metadata": {},
   "outputs": [
    {
     "data": {
      "text/html": [
       "<div>\n",
       "<style scoped>\n",
       "    .dataframe tbody tr th:only-of-type {\n",
       "        vertical-align: middle;\n",
       "    }\n",
       "\n",
       "    .dataframe tbody tr th {\n",
       "        vertical-align: top;\n",
       "    }\n",
       "\n",
       "    .dataframe thead th {\n",
       "        text-align: right;\n",
       "    }\n",
       "</style>\n",
       "<table border=\"1\" class=\"dataframe\">\n",
       "  <thead>\n",
       "    <tr style=\"text-align: right;\">\n",
       "      <th></th>\n",
       "      <th>season</th>\n",
       "      <th>holiday</th>\n",
       "      <th>workingday</th>\n",
       "      <th>weather</th>\n",
       "      <th>temp</th>\n",
       "      <th>atemp</th>\n",
       "      <th>humidity</th>\n",
       "      <th>windspeed</th>\n",
       "      <th>year</th>\n",
       "      <th>month</th>\n",
       "      <th>hour</th>\n",
       "      <th>count</th>\n",
       "    </tr>\n",
       "  </thead>\n",
       "  <tbody>\n",
       "    <tr>\n",
       "      <th>0</th>\n",
       "      <td>1</td>\n",
       "      <td>0</td>\n",
       "      <td>0</td>\n",
       "      <td>1</td>\n",
       "      <td>9.84</td>\n",
       "      <td>14.395</td>\n",
       "      <td>81</td>\n",
       "      <td>0.0000</td>\n",
       "      <td>2011</td>\n",
       "      <td>1</td>\n",
       "      <td>0</td>\n",
       "      <td>16</td>\n",
       "    </tr>\n",
       "    <tr>\n",
       "      <th>1</th>\n",
       "      <td>1</td>\n",
       "      <td>0</td>\n",
       "      <td>0</td>\n",
       "      <td>1</td>\n",
       "      <td>9.02</td>\n",
       "      <td>13.635</td>\n",
       "      <td>80</td>\n",
       "      <td>0.0000</td>\n",
       "      <td>2011</td>\n",
       "      <td>1</td>\n",
       "      <td>1</td>\n",
       "      <td>40</td>\n",
       "    </tr>\n",
       "    <tr>\n",
       "      <th>2</th>\n",
       "      <td>1</td>\n",
       "      <td>0</td>\n",
       "      <td>0</td>\n",
       "      <td>1</td>\n",
       "      <td>9.02</td>\n",
       "      <td>13.635</td>\n",
       "      <td>80</td>\n",
       "      <td>0.0000</td>\n",
       "      <td>2011</td>\n",
       "      <td>1</td>\n",
       "      <td>2</td>\n",
       "      <td>32</td>\n",
       "    </tr>\n",
       "    <tr>\n",
       "      <th>3</th>\n",
       "      <td>1</td>\n",
       "      <td>0</td>\n",
       "      <td>0</td>\n",
       "      <td>1</td>\n",
       "      <td>9.84</td>\n",
       "      <td>14.395</td>\n",
       "      <td>75</td>\n",
       "      <td>0.0000</td>\n",
       "      <td>2011</td>\n",
       "      <td>1</td>\n",
       "      <td>3</td>\n",
       "      <td>13</td>\n",
       "    </tr>\n",
       "    <tr>\n",
       "      <th>4</th>\n",
       "      <td>1</td>\n",
       "      <td>0</td>\n",
       "      <td>0</td>\n",
       "      <td>1</td>\n",
       "      <td>9.84</td>\n",
       "      <td>14.395</td>\n",
       "      <td>75</td>\n",
       "      <td>0.0000</td>\n",
       "      <td>2011</td>\n",
       "      <td>1</td>\n",
       "      <td>4</td>\n",
       "      <td>1</td>\n",
       "    </tr>\n",
       "    <tr>\n",
       "      <th>...</th>\n",
       "      <td>...</td>\n",
       "      <td>...</td>\n",
       "      <td>...</td>\n",
       "      <td>...</td>\n",
       "      <td>...</td>\n",
       "      <td>...</td>\n",
       "      <td>...</td>\n",
       "      <td>...</td>\n",
       "      <td>...</td>\n",
       "      <td>...</td>\n",
       "      <td>...</td>\n",
       "      <td>...</td>\n",
       "    </tr>\n",
       "    <tr>\n",
       "      <th>10881</th>\n",
       "      <td>4</td>\n",
       "      <td>0</td>\n",
       "      <td>1</td>\n",
       "      <td>1</td>\n",
       "      <td>15.58</td>\n",
       "      <td>19.695</td>\n",
       "      <td>50</td>\n",
       "      <td>26.0027</td>\n",
       "      <td>2012</td>\n",
       "      <td>12</td>\n",
       "      <td>19</td>\n",
       "      <td>336</td>\n",
       "    </tr>\n",
       "    <tr>\n",
       "      <th>10882</th>\n",
       "      <td>4</td>\n",
       "      <td>0</td>\n",
       "      <td>1</td>\n",
       "      <td>1</td>\n",
       "      <td>14.76</td>\n",
       "      <td>17.425</td>\n",
       "      <td>57</td>\n",
       "      <td>15.0013</td>\n",
       "      <td>2012</td>\n",
       "      <td>12</td>\n",
       "      <td>20</td>\n",
       "      <td>241</td>\n",
       "    </tr>\n",
       "    <tr>\n",
       "      <th>10883</th>\n",
       "      <td>4</td>\n",
       "      <td>0</td>\n",
       "      <td>1</td>\n",
       "      <td>1</td>\n",
       "      <td>13.94</td>\n",
       "      <td>15.910</td>\n",
       "      <td>61</td>\n",
       "      <td>15.0013</td>\n",
       "      <td>2012</td>\n",
       "      <td>12</td>\n",
       "      <td>21</td>\n",
       "      <td>168</td>\n",
       "    </tr>\n",
       "    <tr>\n",
       "      <th>10884</th>\n",
       "      <td>4</td>\n",
       "      <td>0</td>\n",
       "      <td>1</td>\n",
       "      <td>1</td>\n",
       "      <td>13.94</td>\n",
       "      <td>17.425</td>\n",
       "      <td>61</td>\n",
       "      <td>6.0032</td>\n",
       "      <td>2012</td>\n",
       "      <td>12</td>\n",
       "      <td>22</td>\n",
       "      <td>129</td>\n",
       "    </tr>\n",
       "    <tr>\n",
       "      <th>10885</th>\n",
       "      <td>4</td>\n",
       "      <td>0</td>\n",
       "      <td>1</td>\n",
       "      <td>1</td>\n",
       "      <td>13.12</td>\n",
       "      <td>16.665</td>\n",
       "      <td>66</td>\n",
       "      <td>8.9981</td>\n",
       "      <td>2012</td>\n",
       "      <td>12</td>\n",
       "      <td>23</td>\n",
       "      <td>88</td>\n",
       "    </tr>\n",
       "  </tbody>\n",
       "</table>\n",
       "<p>10886 rows × 12 columns</p>\n",
       "</div>"
      ],
      "text/plain": [
       "       season  holiday  workingday  weather   temp   atemp  humidity  \\\n",
       "0           1        0           0        1   9.84  14.395        81   \n",
       "1           1        0           0        1   9.02  13.635        80   \n",
       "2           1        0           0        1   9.02  13.635        80   \n",
       "3           1        0           0        1   9.84  14.395        75   \n",
       "4           1        0           0        1   9.84  14.395        75   \n",
       "...       ...      ...         ...      ...    ...     ...       ...   \n",
       "10881       4        0           1        1  15.58  19.695        50   \n",
       "10882       4        0           1        1  14.76  17.425        57   \n",
       "10883       4        0           1        1  13.94  15.910        61   \n",
       "10884       4        0           1        1  13.94  17.425        61   \n",
       "10885       4        0           1        1  13.12  16.665        66   \n",
       "\n",
       "       windspeed  year  month  hour  count  \n",
       "0         0.0000  2011      1     0     16  \n",
       "1         0.0000  2011      1     1     40  \n",
       "2         0.0000  2011      1     2     32  \n",
       "3         0.0000  2011      1     3     13  \n",
       "4         0.0000  2011      1     4      1  \n",
       "...          ...   ...    ...   ...    ...  \n",
       "10881    26.0027  2012     12    19    336  \n",
       "10882    15.0013  2012     12    20    241  \n",
       "10883    15.0013  2012     12    21    168  \n",
       "10884     6.0032  2012     12    22    129  \n",
       "10885     8.9981  2012     12    23     88  \n",
       "\n",
       "[10886 rows x 12 columns]"
      ]
     },
     "execution_count": 40,
     "metadata": {},
     "output_type": "execute_result"
    }
   ],
   "source": [
    "data = pd.concat([data.drop(['count'], axis = 1),data['count']], axis = 1)\n",
    "data"
   ]
  },
  {
   "cell_type": "markdown",
   "id": "776568e0-5a13-4507-9a51-9970b8fd3fa5",
   "metadata": {},
   "source": [
    "### 독립 변수\n",
    "- datetime\n",
    "- season\n",
    "- holiday\n",
    "- workingday\n",
    "- weather\n",
    "- temp\n",
    "- atemp\n",
    "- humidity\n",
    "- windspeed"
   ]
  },
  {
   "cell_type": "markdown",
   "id": "50ecb505-684b-4f44-a9db-3cb7e5627da5",
   "metadata": {},
   "source": [
    "### 종속 변수\n",
    "- count\n",
    "　\n",
    " 　\n",
    "  "
   ]
  },
  {
   "cell_type": "markdown",
   "id": "c921fa1c-abc9-4a55-84d7-17905ec08b28",
   "metadata": {},
   "source": [
    "　\n",
    " 　\n",
    "  \n",
    "# 2. 데이터 분포 살펴보기"
   ]
  },
  {
   "cell_type": "markdown",
   "id": "4d7bec1f-7889-49ab-b012-ac847649804c",
   "metadata": {},
   "source": [
    "## (1) 전체 데이터 분포를 살펴보기 위해 train, test 데이터를 concat 후 확인"
   ]
  },
  {
   "cell_type": "code",
   "execution_count": 41,
   "id": "9c7dce05-8950-4649-be35-4eaba58ae87f",
   "metadata": {},
   "outputs": [],
   "source": [
    "all_data = pd.concat([data.drop(['count'], axis = 1), test], axis = 0)\n",
    "all_data.reset_index(drop= True,inplace = True)"
   ]
  },
  {
   "cell_type": "markdown",
   "id": "fe910fdf-0264-411c-bf85-261f33776dd4",
   "metadata": {},
   "source": [
    "## (2) 데이터 nan 값 조회"
   ]
  },
  {
   "cell_type": "code",
   "execution_count": 42,
   "id": "651757de-3753-41b0-a752-a4846c980056",
   "metadata": {},
   "outputs": [
    {
     "data": {
      "text/plain": [
       "season        0\n",
       "holiday       0\n",
       "workingday    0\n",
       "weather       0\n",
       "temp          0\n",
       "atemp         0\n",
       "humidity      0\n",
       "windspeed     0\n",
       "year          0\n",
       "month         0\n",
       "hour          0\n",
       "dtype: int64"
      ]
     },
     "execution_count": 42,
     "metadata": {},
     "output_type": "execute_result"
    }
   ],
   "source": [
    "all_data.isna().sum()"
   ]
  },
  {
   "cell_type": "code",
   "execution_count": 43,
   "id": "698f4a23-ac68-4cfc-a98b-bc315f3c5e51",
   "metadata": {},
   "outputs": [
    {
     "data": {
      "text/plain": [
       "array([[<AxesSubplot:title={'center':'season'}>,\n",
       "        <AxesSubplot:title={'center':'weather'}>],\n",
       "       [<AxesSubplot:title={'center':'year'}>,\n",
       "        <AxesSubplot:title={'center':'hour'}>],\n",
       "       [<AxesSubplot:title={'center':'workingday'}>,\n",
       "        <AxesSubplot:title={'center':'holiday'}>]], dtype=object)"
      ]
     },
     "execution_count": 43,
     "metadata": {},
     "output_type": "execute_result"
    },
    {
     "data": {
      "image/png": "[encoded data removed]",
      "text/plain": [
       "<Figure size 864x576 with 6 Axes>"
      ]
     },
     "metadata": {
      "needs_background": "light"
     },
     "output_type": "display_data"
    }
   ],
   "source": [
    "all_data[['season','weather','year','hour','workingday','holiday']].hist(figsize=(12,8))"
   ]
  },
  {
   "cell_type": "markdown",
   "id": "e20a9f70-ed45-4832-9561-075a5a432067",
   "metadata": {},
   "source": [
    "## (3) 상관계수 확인해보기"
   ]
  },
  {
   "cell_type": "code",
   "execution_count": 44,
   "id": "c9f79a87-1d99-4674-beb3-7dd6fb7f621f",
   "metadata": {},
   "outputs": [
    {
     "data": {
      "text/plain": [
       "<AxesSubplot:>"
      ]
     },
     "execution_count": 44,
     "metadata": {},
     "output_type": "execute_result"
    },
    {
     "data": {
      "image/png": "[encoded data removed]",
      "text/plain": [
       "<Figure size 720x720 with 2 Axes>"
      ]
     },
     "metadata": {
      "needs_background": "light"
     },
     "output_type": "display_data"
    }
   ],
   "source": [
    "plt.figure(figsize = (10,10))\n",
    "sns.heatmap(abs(data.corr()),annot = True,cmap = \"Greens\")"
   ]
  },
  {
   "cell_type": "markdown",
   "id": "dc377219-f7b3-456e-a546-175124b4de0b",
   "metadata": {},
   "source": [
    "#### 다중공선성이 있는 것을 확인 할 수 있다.\n",
    "- season, month\n",
    "- temp, atemp\n",
    "\n",
    "#### 나중에 pca 또는 column 삭제를 고려할 수 있다."
   ]
  },
  {
   "cell_type": "markdown",
   "id": "0ffa221d-f11a-4664-8398-c2186947b213",
   "metadata": {},
   "source": [
    "　\n",
    " 　\n",
    "  　\n",
    "# 3. 전처리"
   ]
  },
  {
   "cell_type": "code",
   "execution_count": 45,
   "id": "80169570-6dd5-4b82-b79c-0e0b387b3b20",
   "metadata": {},
   "outputs": [],
   "source": [
    "X = data.drop(['count'],axis = 1)\n",
    "y = data['count']\n",
    "test = copy.copy(test)"
   ]
  },
  {
   "cell_type": "markdown",
   "id": "d09f77e9-a863-4815-ba9b-66bfe6720d2a",
   "metadata": {},
   "source": [
    "## (1) 기본 데이터\n",
    "- X_1 : 기본데이터 사용 \n",
    "- y_1 : log화 시킨 값"
   ]
  },
  {
   "cell_type": "code",
   "execution_count": 46,
   "id": "57c65560-ff2f-4ce3-b393-c1de06fa17df",
   "metadata": {},
   "outputs": [],
   "source": [
    "X_1 = data.drop(['count'],axis = 1)\n",
    "y_1 = np.log1p(y)\n",
    "X_test_1 = copy.copy(test)"
   ]
  },
  {
   "cell_type": "markdown",
   "id": "dcc260f1-3cbb-4e12-81ff-d4ee33711f84",
   "metadata": {},
   "source": [
    "## (2) 시간데이터 범주화\n",
    "- X_2 : 시간데이터 범주화\n",
    "- y_2 : log화 시킨 값"
   ]
  },
  {
   "cell_type": "code",
   "execution_count": 47,
   "id": "fea140e3-1aba-4c7e-973a-1e665d7f9b25",
   "metadata": {},
   "outputs": [
    {
     "data": {
      "text/plain": [
       "Text(0, 0.5, 'count')"
      ]
     },
     "execution_count": 47,
     "metadata": {},
     "output_type": "execute_result"
    },
    {
     "data": {
      "image/png": "[encoded data removed]",
      "text/plain": [
       "<Figure size 864x360 with 1 Axes>"
      ]
     },
     "metadata": {
      "needs_background": "light"
     },
     "output_type": "display_data"
    }
   ],
   "source": [
    "temp1 = pd.DataFrame(data['count'].groupby(data['hour']).sum())\n",
    "\n",
    "# x값, y값\n",
    "y = temp1['count'].unique().tolist()\n",
    "x = temp1.index.tolist()\n",
    "\n",
    "colors = ['grey'] * 23\n",
    "for i in range(len(colors)):\n",
    "    if i == 0 or i == 8 or i == 9 or i ==17 or i == 20 or i == 22 or i == 23:\n",
    "        colors[i] = 'red'\n",
    "\n",
    "plt.figure(figsize=(12, 5))\n",
    "\n",
    "plt.bar(x,y,color = colors)\n",
    "plt.xlabel('hour')\n",
    "plt.ylabel('count')"
   ]
  },
  {
   "cell_type": "code",
   "execution_count": 48,
   "id": "27c6a800-6898-424f-829e-ec6ea2ef0b2c",
   "metadata": {},
   "outputs": [],
   "source": [
    "bins = [-1,7,8,9,17,20,22,23]\n",
    "\n",
    "cuts = pd.cut(data['hour'], bins,labels = [0,1,2,3,4,5,6])\n",
    "data['hour'] = cuts\n",
    "\n",
    "bins = [-1,7,8,9,17,20,22,23]\n",
    "\n",
    "cuts = pd.cut(test['hour'], bins,labels = [0,1,2,3,4,5,6])\n",
    "test['hour'] = cuts"
   ]
  },
  {
   "cell_type": "code",
   "execution_count": 49,
   "id": "9464e082-8479-4e68-8614-5dfacf252e33",
   "metadata": {},
   "outputs": [],
   "source": [
    "temp = pd.DataFrame(data['count'].groupby([data['year'],data['month']]).sum())"
   ]
  },
  {
   "cell_type": "code",
   "execution_count": 50,
   "id": "2e904106-6bf7-4980-ab90-8a3ddeffe6c7",
   "metadata": {},
   "outputs": [
    {
     "data": {
      "text/plain": [
       "<AxesSubplot:xlabel='year,month'>"
      ]
     },
     "execution_count": 50,
     "metadata": {},
     "output_type": "execute_result"
    },
    {
     "data": {
      "image/png": "[encoded data removed]",
      "text/plain": [
       "<Figure size 432x288 with 1 Axes>"
      ]
     },
     "metadata": {
      "needs_background": "light"
     },
     "output_type": "display_data"
    }
   ],
   "source": [
    "temp.plot()"
   ]
  },
  {
   "cell_type": "code",
   "execution_count": 51,
   "id": "3b8a7a26-7917-4b91-b679-c99a4439f379",
   "metadata": {},
   "outputs": [],
   "source": [
    "temp = data[['month']]\n",
    "temp_test = test[['month']]\n",
    "\n",
    "temp_2011 = temp.iloc[temp[data['year'] == 2011].index]\n",
    "temp_2012 = temp.iloc[temp[data['year'] == 2012].index]\n",
    "\n",
    "temp_test_2011 = temp_test.iloc[temp_test[test['year'] == 2011].index]\n",
    "temp_test_2012 = temp_test.iloc[temp_test[test['year'] == 2012].index]\n",
    "\n",
    "temp_2012 = temp_2012 + 12\n",
    "temp_test_2012 = temp_test_2012 + 12\n",
    "\n",
    "temp = pd.concat([temp_2011,temp_2012], axis = 0)\n",
    "temp_test = pd.concat([temp_test_2011, temp_test_2012], axis = 0)\n",
    "\n",
    "data['month'] = temp\n",
    "test['month'] = temp_test"
   ]
  },
  {
   "cell_type": "code",
   "execution_count": 52,
   "id": "17c8defb-a3c8-4f34-8e92-d7ec991a77c2",
   "metadata": {},
   "outputs": [],
   "source": [
    "bins = [-1,3,6,9,12,15,18,21,24]\n",
    "\n",
    "cuts = pd.cut(test['month'], bins,labels = [0,1,2,3,4,5,6,7])\n",
    "test['month'] = cuts\n",
    "\n",
    "bins = [-1,3,6,9,12,15,18,21,24]\n",
    "\n",
    "cuts = pd.cut(data['month'], bins,labels = [0,1,2,3,4,5,6,7])\n",
    "data['month'] = cuts"
   ]
  },
  {
   "cell_type": "code",
   "execution_count": 53,
   "id": "9086b6ba-96a8-4136-b5c7-535a1e14e684",
   "metadata": {},
   "outputs": [],
   "source": [
    "X_2 = data.drop(['count'], axis = 1)\n",
    "y_2 = np.log1p(data['count'])\n",
    "X_test_2 = copy.copy(test)"
   ]
  },
  {
   "cell_type": "markdown",
   "id": "07781ab6-8270-4993-a379-a125e8e34783",
   "metadata": {},
   "source": [
    "## (3) 다중공선성 PCA 및 상관계수가 낮은 columns 제거"
   ]
  },
  {
   "cell_type": "code",
   "execution_count": 54,
   "id": "519a8ad9-e53d-4a0d-aff4-7309e340f298",
   "metadata": {},
   "outputs": [],
   "source": [
    "from sklearn.preprocessing import StandardScaler\n",
    "scaler = StandardScaler()   \n",
    "scaler = scaler.fit_transform(data[['temp','atemp','humidity','windspeed','year','hour']])\n",
    "\n",
    "temp = pd.DataFrame(columns = ['temp','atemp','humidity','windspeed','year','hour'],data = scaler)\n",
    "X_3 = pd.concat([X[['season','holiday','workingday','weather','month']],temp],axis = 1)\n",
    "y_3 = np.log1p(data['count'])\n",
    "\n",
    "scaler = StandardScaler()\n",
    "\n",
    "X_test_3 = copy.copy(test)\n",
    "scaler = scaler.fit_transform(test[['temp','atemp','humidity','windspeed','year','hour']])\n",
    "\n",
    "temp = pd.DataFrame(columns = ['temp','atemp','humidity','windspeed','year','hour'],data = scaler)\n",
    "X_test_3 = pd.concat([X_test_3[['season','holiday','workingday','weather','month']],temp],axis = 1)"
   ]
  },
  {
   "cell_type": "code",
   "execution_count": 55,
   "id": "2c9aa9ac-3d4d-4a2b-9130-7eb163f9a712",
   "metadata": {},
   "outputs": [
    {
     "data": {
      "text/html": [
       "<div>\n",
       "<style scoped>\n",
       "    .dataframe tbody tr th:only-of-type {\n",
       "        vertical-align: middle;\n",
       "    }\n",
       "\n",
       "    .dataframe tbody tr th {\n",
       "        vertical-align: top;\n",
       "    }\n",
       "\n",
       "    .dataframe thead th {\n",
       "        text-align: right;\n",
       "    }\n",
       "</style>\n",
       "<table border=\"1\" class=\"dataframe\">\n",
       "  <thead>\n",
       "    <tr style=\"text-align: right;\">\n",
       "      <th></th>\n",
       "      <th>temp</th>\n",
       "      <th>atemp</th>\n",
       "    </tr>\n",
       "  </thead>\n",
       "  <tbody>\n",
       "    <tr>\n",
       "      <th>temp</th>\n",
       "      <td>1.000000</td>\n",
       "      <td>0.984948</td>\n",
       "    </tr>\n",
       "    <tr>\n",
       "      <th>atemp</th>\n",
       "      <td>0.984948</td>\n",
       "      <td>1.000000</td>\n",
       "    </tr>\n",
       "  </tbody>\n",
       "</table>\n",
       "</div>"
      ],
      "text/plain": [
       "           temp     atemp\n",
       "temp   1.000000  0.984948\n",
       "atemp  0.984948  1.000000"
      ]
     },
     "execution_count": 55,
     "metadata": {},
     "output_type": "execute_result"
    }
   ],
   "source": [
    "X_3[['temp','atemp']].corr()"
   ]
  },
  {
   "cell_type": "code",
   "execution_count": 56,
   "id": "30e99e5f-c54f-4a38-ac63-e00a467711ba",
   "metadata": {},
   "outputs": [
    {
     "data": {
      "text/html": [
       "<div>\n",
       "<style scoped>\n",
       "    .dataframe tbody tr th:only-of-type {\n",
       "        vertical-align: middle;\n",
       "    }\n",
       "\n",
       "    .dataframe tbody tr th {\n",
       "        vertical-align: top;\n",
       "    }\n",
       "\n",
       "    .dataframe thead th {\n",
       "        text-align: right;\n",
       "    }\n",
       "</style>\n",
       "<table border=\"1\" class=\"dataframe\">\n",
       "  <thead>\n",
       "    <tr style=\"text-align: right;\">\n",
       "      <th></th>\n",
       "      <th>season</th>\n",
       "      <th>month</th>\n",
       "    </tr>\n",
       "  </thead>\n",
       "  <tbody>\n",
       "    <tr>\n",
       "      <th>season</th>\n",
       "      <td>1.000000</td>\n",
       "      <td>0.971524</td>\n",
       "    </tr>\n",
       "    <tr>\n",
       "      <th>month</th>\n",
       "      <td>0.971524</td>\n",
       "      <td>1.000000</td>\n",
       "    </tr>\n",
       "  </tbody>\n",
       "</table>\n",
       "</div>"
      ],
      "text/plain": [
       "          season     month\n",
       "season  1.000000  0.971524\n",
       "month   0.971524  1.000000"
      ]
     },
     "execution_count": 56,
     "metadata": {},
     "output_type": "execute_result"
    }
   ],
   "source": [
    "X_3[['season','month']].corr()"
   ]
  },
  {
   "cell_type": "code",
   "execution_count": 57,
   "id": "f9e14532-6966-4fc6-9c55-2ff5b78d48f0",
   "metadata": {},
   "outputs": [],
   "source": [
    "temp_atemp = X_3[['temp','atemp']].values\n",
    "season_month = X_3[['season','month']].values\n",
    "\n",
    "test_temp_atemp = X_test_3[['temp','atemp']].values\n",
    "test_season_month = X_test_3[['season','month']].values\n",
    "\n",
    "from sklearn.preprocessing import StandardScaler\n",
    "temp_atemp_scaler = StandardScaler().fit_transform(temp_atemp)\n",
    "season_month_scaler = StandardScaler().fit_transform(season_month)\n",
    "\n",
    "test_temp_atemp_scaler = StandardScaler().fit_transform(test_temp_atemp)\n",
    "test_season_month_scaler = StandardScaler().fit_transform(test_season_month)\n",
    "\n",
    "from sklearn.decomposition import PCA\n",
    "\n",
    "pca = PCA(n_components=1,random_state = 42)\n",
    "temp_atemp = pca.fit_transform(temp_atemp_scaler)\n",
    "season_month = pca.fit_transform(season_month_scaler)\n",
    "\n",
    "test_temp_atemp = pca.fit_transform(test_temp_atemp_scaler)\n",
    "test_season_month = pca.fit_transform(test_season_month_scaler)\n",
    "\n",
    "X_3.drop(['season','month','temp','atemp'], axis = 1, inplace = True)\n",
    "X_test_3.drop(['season','month','temp','atemp'], axis = 1, inplace = True)\n",
    "\n",
    "X_3['pca_te_at'] = temp_atemp\n",
    "X_3['pca_se_mo'] = season_month\n",
    "\n",
    "X_test_3['pca_te_at'] = test_temp_atemp\n",
    "X_test_3['pca_se_mo'] = test_temp_atemp"
   ]
  },
  {
   "cell_type": "code",
   "execution_count": 58,
   "id": "67777461-8223-47c4-b87d-a5dfc45249f8",
   "metadata": {},
   "outputs": [],
   "source": [
    "X_3.drop(['holiday'], axis = 1, inplace = True)\n",
    "X_test_3.drop(['holiday'], axis = 1, inplace = True)"
   ]
  },
  {
   "cell_type": "markdown",
   "id": "47474ab1-f589-4484-b055-a5346b0ed335",
   "metadata": {},
   "source": [
    "## (4) deeplearning"
   ]
  },
  {
   "cell_type": "code",
   "execution_count": 59,
   "id": "426c74e9-d16c-43ca-8820-6c453c55b7e4",
   "metadata": {},
   "outputs": [],
   "source": [
    "X_4 = data.drop(['count'], axis=1)\n",
    "Y_4 = data['count']\n",
    "X_test_4 = copy.copy(test)"
   ]
  },
  {
   "cell_type": "code",
   "execution_count": 60,
   "id": "1c5d104a-8bb1-482a-b9cc-581e4e79f53c",
   "metadata": {},
   "outputs": [],
   "source": [
    "X_4 = pd.get_dummies(X_4, columns=['year', 'month', 'hour', 'holiday','workingday','season','weather'])\n",
    "y_4 = np.log1p(data['count'])\n",
    "X_test_4 = pd.get_dummies(X_test_4, columns=['year', 'month', 'hour', 'holiday','workingday','season','weather'])"
   ]
  },
  {
   "cell_type": "markdown",
   "id": "c16d5282-e8f3-463f-b47d-ff9d9e9aaee3",
   "metadata": {},
   "source": [
    "# 4. 모델링"
   ]
  },
  {
   "cell_type": "markdown",
   "id": "ef953c23-db61-4393-8b69-beeb07b649a0",
   "metadata": {},
   "source": [
    "## (1) 랜덤포레스트"
   ]
  },
  {
   "cell_type": "markdown",
   "id": "a7c6555d-5d59-405f-9cdf-13f71460de88",
   "metadata": {},
   "source": [
    "> 전처리 1 데이터 사용"
   ]
  },
  {
   "cell_type": "code",
   "execution_count": 83,
   "id": "bf09a6f5-e309-4329-9717-2792091d1a5f",
   "metadata": {},
   "outputs": [],
   "source": [
    "from sklearn.model_selection import train_test_split\n",
    "X_train, X_test, y_train, y_test = train_test_split(X_1,y_1,train_size = 0.7,random_state= 42)"
   ]
  },
  {
   "cell_type": "code",
   "execution_count": 64,
   "id": "12d83ce9-e4ca-4a8b-9bad-5fbe189d32f1",
   "metadata": {},
   "outputs": [
    {
     "name": "stdout",
     "output_type": "stream",
     "text": [
      "{'max_depth': 10, 'min_samples_leaf': 3, 'min_samples_split': 5, 'n_estimators': 1000}\n"
     ]
    }
   ],
   "source": [
    "from sklearn.model_selection import GridSearchCV\n",
    "from sklearn.ensemble import RandomForestRegressor\n",
    "rf = RandomForestRegressor()\n",
    "\n",
    "param_grid = {'n_estimators' : [1000],\n",
    "          'max_depth' : [10],\n",
    "          'min_samples_leaf' : [3],\n",
    "          'min_samples_split' : [5]\n",
    "          }\n",
    "\n",
    "grid_search = GridSearchCV(rf, param_grid=param_grid ,n_jobs=-1)\n",
    "grid_search.fit(X_1, y_1)\n",
    "print(grid_search.best_params_)"
   ]
  },
  {
   "cell_type": "code",
   "execution_count": 65,
   "id": "d4a4cb46-6ddb-40fc-b79b-63c601353772",
   "metadata": {},
   "outputs": [
    {
     "name": "stdout",
     "output_type": "stream",
     "text": [
      "RMSLE: 0.3428\n"
     ]
    },
    {
     "data": {
      "text/plain": [
       "0.34277912760058854"
      ]
     },
     "execution_count": 65,
     "metadata": {},
     "output_type": "execute_result"
    }
   ],
   "source": [
    "RF_best = grid_search.best_estimator_\n",
    "pred = RF_best.predict(X_test)\n",
    "\n",
    "y_test = np.expm1(y_test)\n",
    "pred = np.expm1(pred)\n",
    "\n",
    "rmsle(y_test,pred)"
   ]
  },
  {
   "cell_type": "code",
   "execution_count": 66,
   "id": "8bef2caa-823f-4100-a08f-3f13bd52b3d7",
   "metadata": {},
   "outputs": [],
   "source": [
    "pred_test = RF_best.predict(X_test_1)\n",
    "\n",
    "submission['count'] = np.expm1(pred_test)\n",
    "\n",
    "submission.to_csv('./dataset/RF_preprocessing1.csv',index = False)"
   ]
  },
  {
   "cell_type": "markdown",
   "id": "d1bf145d-7236-4225-8284-fb7111f01050",
   "metadata": {},
   "source": [
    "> 전처리 2 데이터 사용"
   ]
  },
  {
   "cell_type": "code",
   "execution_count": 67,
   "id": "65dc1f07-5609-4876-8e67-8f3196d50e9a",
   "metadata": {},
   "outputs": [],
   "source": [
    "from sklearn.model_selection import train_test_split\n",
    "X_train, X_test, y_train, y_test = train_test_split(X_2,y_2,train_size = 0.7,random_state= 42)"
   ]
  },
  {
   "cell_type": "code",
   "execution_count": 68,
   "id": "e86623f9-9887-49d8-a6c3-47d4a368f2ba",
   "metadata": {},
   "outputs": [
    {
     "name": "stdout",
     "output_type": "stream",
     "text": [
      "{'max_depth': 10, 'min_samples_leaf': 3, 'min_samples_split': 10, 'n_estimators': 100}\n"
     ]
    }
   ],
   "source": [
    "# {'max_depth': 10, 'min_samples_leaf': 3, 'min_samples_split': 10, 'n_estimators': 100}\n",
    "\n",
    "rf = RandomForestRegressor()\n",
    "\n",
    "param_grid = {'n_estimators' : [100],\n",
    "          'max_depth' : [10],\n",
    "          'min_samples_leaf' : [3],\n",
    "          'min_samples_split' : [10]\n",
    "          }\n",
    "\n",
    "grid_search = GridSearchCV(rf, param_grid=param_grid ,n_jobs=-1)\n",
    "grid_search.fit(X_train, y_train)\n",
    "print(grid_search.best_params_)"
   ]
  },
  {
   "cell_type": "code",
   "execution_count": 69,
   "id": "5f819c15-2987-43e2-a965-fbb12182eb8b",
   "metadata": {},
   "outputs": [
    {
     "name": "stdout",
     "output_type": "stream",
     "text": [
      "RMSLE: 0.7960\n"
     ]
    },
    {
     "data": {
      "text/plain": [
       "0.7959605942243829"
      ]
     },
     "execution_count": 69,
     "metadata": {},
     "output_type": "execute_result"
    }
   ],
   "source": [
    "RF_best = grid_search.best_estimator_\n",
    "pred = RF_best.predict(X_test)\n",
    "\n",
    "y_test = np.expm1(y_test)\n",
    "pred = np.expm1(pred)\n",
    "\n",
    "rmsle(y_test,pred)"
   ]
  },
  {
   "cell_type": "code",
   "execution_count": 70,
   "id": "aa311a6f-b661-461f-8aa2-df062b04ebe4",
   "metadata": {},
   "outputs": [],
   "source": [
    "pred_test2 = RF_best.predict(X_test_2)\n",
    "\n",
    "submission['count'] = np.expm1(pred_test2)\n",
    "\n",
    "submission.to_csv('./dataset/RF_preprocessing2.csv',index = False)"
   ]
  },
  {
   "cell_type": "markdown",
   "id": "39063a30-a291-441e-95e9-1f026439c370",
   "metadata": {},
   "source": [
    "> 전처리 3 데이터 사용"
   ]
  },
  {
   "cell_type": "code",
   "execution_count": 122,
   "id": "774fd171-3c99-4ad9-9ff7-110c00ae89bb",
   "metadata": {},
   "outputs": [],
   "source": [
    "from sklearn.model_selection import train_test_split\n",
    "X_train, X_test, y_train, y_test = train_test_split(X_3,y_3,train_size = 0.7,random_state= 42)"
   ]
  },
  {
   "cell_type": "code",
   "execution_count": 123,
   "id": "03734a3a-ac88-46a6-91c8-ccb2697fa965",
   "metadata": {},
   "outputs": [
    {
     "name": "stdout",
     "output_type": "stream",
     "text": [
      "{'max_depth': 12, 'min_samples_leaf': 10, 'min_samples_split': 2, 'n_estimators': 1000}\n"
     ]
    }
   ],
   "source": [
    "# {'max_depth': 12, 'min_samples_leaf': 10, 'min_samples_split': 2, 'n_estimators': 1000}\n",
    "rf = RandomForestRegressor()\n",
    "\n",
    "param_grid = {'n_estimators' : [1000],\n",
    "          'max_depth' : [12],\n",
    "          'min_samples_leaf' : [10],\n",
    "          'min_samples_split' : [2]\n",
    "          }\n",
    "\n",
    "grid_search = GridSearchCV(rf, param_grid=param_grid ,n_jobs=-1)\n",
    "grid_search.fit(X_train, y_train)\n",
    "print(grid_search.best_params_)"
   ]
  },
  {
   "cell_type": "code",
   "execution_count": 124,
   "id": "adf3432d-957f-4a97-b15d-47dc45e84128",
   "metadata": {},
   "outputs": [
    {
     "name": "stdout",
     "output_type": "stream",
     "text": [
      "RMSLE: 0.8002\n"
     ]
    },
    {
     "data": {
      "text/plain": [
       "0.8001508824690776"
      ]
     },
     "execution_count": 124,
     "metadata": {},
     "output_type": "execute_result"
    }
   ],
   "source": [
    "RF_best = grid_search.best_estimator_\n",
    "pred = RF_best.predict(X_test)\n",
    "\n",
    "y_test = np.expm1(y_test)\n",
    "pred = np.expm1(pred)\n",
    "\n",
    "rmsle(y_test,pred)"
   ]
  },
  {
   "cell_type": "code",
   "execution_count": 125,
   "id": "b9207b26-d8ae-490e-8bbe-327f019badda",
   "metadata": {},
   "outputs": [],
   "source": [
    "RF_best = grid_search.best_estimator_\n",
    "pred = RF_best.predict(X_test_3)\n",
    "\n",
    "pred_test3 = np.expm1(pred)"
   ]
  },
  {
   "cell_type": "code",
   "execution_count": 126,
   "id": "ccb8291c-bd75-4e37-ab8d-5a95a7ba011b",
   "metadata": {},
   "outputs": [],
   "source": [
    "submission['count'] = pred_test3\n",
    "\n",
    "submission.to_csv('./dataset/RF_preprocessing3.csv',index = False)"
   ]
  },
  {
   "cell_type": "markdown",
   "id": "890561c9-b9cd-4044-b8de-0b5c5c382905",
   "metadata": {},
   "source": [
    "## (2) 딥러닝"
   ]
  },
  {
   "cell_type": "markdown",
   "id": "453f58e7-9b90-4d8e-ac65-4cc9e555e0c3",
   "metadata": {},
   "source": [
    "> 전처리 4 데이터 사용"
   ]
  },
  {
   "cell_type": "code",
   "execution_count": 68,
   "id": "48d2588e-9f06-446e-a7d9-1cafe93f4870",
   "metadata": {},
   "outputs": [],
   "source": [
    "pred = model.predict(X_test)"
   ]
  },
  {
   "cell_type": "code",
   "execution_count": 70,
   "id": "92a2ff39-228b-45e1-a67d-5f086a9b9ac7",
   "metadata": {},
   "outputs": [],
   "source": [
    "y_test = np.expm1(y_test)\n",
    "pred = np.expm1(pred).reshape(3266)"
   ]
  },
  {
   "cell_type": "code",
   "execution_count": 71,
   "id": "20f6875c-5b9d-4c59-9a6b-301815f5e167",
   "metadata": {},
   "outputs": [
    {
     "name": "stdout",
     "output_type": "stream",
     "text": [
      "RMSLE: 0.8561\n"
     ]
    },
    {
     "data": {
      "text/plain": [
       "0.8561352206864428"
      ]
     },
     "execution_count": 71,
     "metadata": {},
     "output_type": "execute_result"
    }
   ],
   "source": [
    "rmsle(y_test, pred)  "
   ]
  },
  {
   "cell_type": "code",
   "execution_count": 237,
   "id": "56ad7804-ad35-46d6-95c4-436f0d39bd50",
   "metadata": {},
   "outputs": [],
   "source": [
    "pred = model.predict(X_test_4)"
   ]
  },
  {
   "cell_type": "code",
   "execution_count": 239,
   "id": "7fe9a03d-5a0e-4115-acc1-dce4b218cf18",
   "metadata": {},
   "outputs": [],
   "source": [
    "submission['count'] = np.expm1(pred)\n",
    "\n",
    "submission.to_csv('./dataset/deepLearning_1.csv',index = False)"
   ]
  },
  {
   "cell_type": "markdown",
   "id": "5fc98b0c-e49a-4881-b058-fd09ac337698",
   "metadata": {},
   "source": [
    "# 5. 결과값"
   ]
  },
  {
   "cell_type": "markdown",
   "id": "590cbf4d-018f-409f-821b-d8c55bceafd5",
   "metadata": {
    "tags": [],
    "toc-hr-collapsed": true
   },
   "source": [
    "## (1) 머신러닝"
   ]
  },
  {
   "attachments": {
    "1503f8bf-eb5a-4b34-9b27-c016cf0614cc.png": {
     "image/png": "[encoded data removed]"
    },
    "518be8d4-1284-4f6d-a73e-3923dcbdd161.png": {
     "image/png": "[encoded data removed]"
    },
    "614a8598-a5be-4953-b678-8a282bc6ab46.png": {
     "image/png": "[encoded data removed]"
    },
    "78c28c6f-0e37-433c-8fd9-b8f707914e41.png": {
     "image/png": "[encoded data removed]"
    }
   },
   "cell_type": "markdown",
   "id": "ea210341-d0ba-4b95-bccb-b0aa9fb2ca55",
   "metadata": {},
   "source": [
    "![KakaoTalk_20210611_163012042.png](attachment:1503f8bf-eb5a-4b34-9b27-c016cf0614cc.png)\n",
    "\n",
    "![KakaoTalk_20210611_163012042.png](attachment:518be8d4-1284-4f6d-a73e-3923dcbdd161.png)\n",
    "\n",
    "![KakaoTalk_20210611_163012166.png](attachment:78c28c6f-0e37-433c-8fd9-b8f707914e41.png)\n",
    "\n",
    "![KakaoTalk_20210611_163012274.png](attachment:614a8598-a5be-4953-b678-8a282bc6ab46.png)"
   ]
  },
  {
   "cell_type": "markdown",
   "id": "0174b590-3c48-4896-81a7-db386f83372f",
   "metadata": {
    "tags": []
   },
   "source": [
    "### 진영왕조실록 원문\n",
    "\n",
    "오류값을 낮추기 위해서\n",
    "표준화를 하려고 했는데\n",
    "터무니 없는 컬럼을 표준화해서\n",
    "많은 시간을 삽질함\n",
    "\n",
    "heatmap을 통해\n",
    "corr를 확인했을 때\n",
    "count와 가장 높은 수치를 나타내는\n",
    "hour와 가장 낮은 수치를 나타내는 humidity 값을\n",
    "정규화하기로 함\n",
    "\n",
    "해당 칼럼을\n",
    "StandardScaler, RobustScaler, log scale 해서 \n",
    "데이터 분포를\n",
    "확인하기 위해 displot을 그려봄\n",
    "\n",
    "기존 데이터와 분포가 비슷한 것,\n",
    "데이터 분포 범위가'\n",
    "좀 더 적은 것(overfitting이 덜 걸리기 때문이라함)\n",
    "을 채택한 결과\n",
    "standardScaler를 통해 정규화된 값을\n",
    "x데이터로 이용함\n",
    "\n",
    "values.reshape(-1,1)으로 정규화된 hour를\n",
    "one hot encoding 한 탓에\n",
    "'scaled_hour_-1.3797389998554084'\n",
    "같은 난잡한 이름의 컬럼이 많이 생기게 됨\n",
    "\n",
    "그때문에 submission에\n",
    "머신러닝 모델이 예측한 count 값을 넣을 때\n",
    "feature_names mismatch 오류가 발생해\n",
    "\n",
    "오랜 시간 삽질함"
   ]
  },
  {
   "cell_type": "markdown",
   "id": "18267637-f4ec-43a7-b612-1fd866eb4215",
   "metadata": {},
   "source": [
    "## (2) 딥러닝"
   ]
  },
  {
   "attachments": {
    "8a1f5772-2536-4852-bce9-8e3250c6a29e.png": {
     "image/png": "[encoded data removed]"
    },
    "ae40f0ad-9eca-4f41-b8bb-1cc9d392a0ff.png": {
     "image/png": "[encoded data removed]"
    },
    "ba545335-8c39-4aa6-b2d5-e0d15588839b.png": {
     "image/png": "[encoded data removed]"
    }
   },
   "cell_type": "markdown",
   "id": "d183488b-f7bc-4d72-a3f8-4e03ea9f97e0",
   "metadata": {
    "tags": []
   },
   "source": [
    "![KakaoTalk_20210611_162925.png](attachment:8a1f5772-2536-4852-bce9-8e3250c6a29e.png)\n",
    "\n",
    "![KakaoTalk_20210611_163015.png](attachment:ae40f0ad-9eca-4f41-b8bb-1cc9d392a0ff.png)\n",
    "\n",
    "![KakaoTalk_20210611_163042838.png](attachment:ba545335-8c39-4aa6-b2d5-e0d15588839b.png)"
   ]
  },
  {
   "cell_type": "code",
   "execution_count": null,
   "id": "731b8f0b-d262-45e6-99a8-a7f8426ea41d",
   "metadata": {},
   "outputs": [],
   "source": []
  }
 ],
 "metadata": {
  "kernelspec": {
   "display_name": "Python 3",
   "language": "python",
   "name": "python3"
  },
  "language_info": {
   "codemirror_mode": {
    "name": "ipython",
    "version": 3
   },
   "file_extension": ".py",
   "mimetype": "text/x-python",
   "name": "python",
   "nbconvert_exporter": "python",
   "pygments_lexer": "ipython3",
   "version": "3.7.10"
  },
  "toc-autonumbering": false
 },
 "nbformat": 4,
 "nbformat_minor": 5
}
